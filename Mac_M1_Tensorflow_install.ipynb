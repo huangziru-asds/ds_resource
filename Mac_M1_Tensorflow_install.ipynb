{
 "cells": [
  {
   "cell_type": "markdown",
   "id": "8dac176e-40f4-468a-acfb-b5ce6693b534",
   "metadata": {},
   "source": [
    "## Install Tensorflow on Mac M1 Chip \n",
    "\n",
    "Ziru Huang"
   ]
  },
  {
   "cell_type": "markdown",
   "id": "c790ce7d-7a7f-48b2-bea8-94706eeedec8",
   "metadata": {},
   "source": [
    "### 1. The easiest way: google colab\n",
    "The TensorFlow tutorials are written as Jupyter notebooks and run directly in Google Colab—a hosted notebook environment that requires no setup. Run the following lines in your colab notebook:"
   ]
  },
  {
   "cell_type": "code",
   "execution_count": null,
   "id": "971f45f2-553a-49f1-8496-a9a45db9482d",
   "metadata": {},
   "outputs": [],
   "source": [
    "!pip install tensorflow\n",
    "!pip install ktrain #run only if you need"
   ]
  },
  {
   "cell_type": "code",
   "execution_count": null,
   "id": "e92e6f79-fef7-433c-9ecc-8b967ce3c5d9",
   "metadata": {},
   "outputs": [],
   "source": [
    "import tensorflow as tf\n",
    "import pandas as pd\n",
    "import numpy as np\n",
    "import ktrain\n",
    "from ktrain import text\n",
    "import tensorflow as tf"
   ]
  },
  {
   "cell_type": "code",
   "execution_count": null,
   "id": "3ba49171-c670-4dfc-bab9-0b45dd435a9c",
   "metadata": {},
   "outputs": [],
   "source": [
    "from google.colab import drive\n",
    "drive.mount('/content/drive')"
   ]
  },
  {
   "cell_type": "markdown",
   "id": "57cafb17-d398-435f-8734-92f2e17574f4",
   "metadata": {},
   "source": [
    "**links that may be helpful**:\n",
    "\n",
    "[Basic info](https://www.tensorflow.org/tutorials)\n",
    "\n",
    "[Tensorflow Google Colab quickstart](https://colab.research.google.com/github/tensorflow/docs/blob/master/site/en/tutorials/quickstart/beginner.ipynb)"
   ]
  },
  {
   "cell_type": "markdown",
   "id": "8424cba0-d15c-44f3-906a-375510465266",
   "metadata": {},
   "source": [
    "### Or 2. Install Tensorflow on M1 Mac\n",
    "Note: this only works for Mac with M1 chip (Macbook Air, Macbook Pro etc.)\n",
    "\n",
    "If you have Anaconda+Jupyter Notebook installed, please start by uninstalling Anaconda; If not, you can skip the first step and start by the next. "
   ]
  },
  {
   "cell_type": "markdown",
   "id": "c587eb0f-ac26-46dc-b859-0ba504fe698b",
   "metadata": {},
   "source": [
    "**1. Uninstall Anaconda completely**\n",
    "\n",
    "Run the following command below in your terminal\n",
    "\n",
    "*helpful link*: \n",
    "\n",
    "[Uninstalling Anaconda Distribution](https://docs.anaconda.com/free/anaconda/install/uninstall/)"
   ]
  },
  {
   "cell_type": "code",
   "execution_count": null,
   "id": "56845a3a-9324-4763-99fd-c3b32fd43768",
   "metadata": {},
   "outputs": [],
   "source": [
    "conda install anaconda-clean "
   ]
  },
  {
   "cell_type": "markdown",
   "id": "0bfd82a5-51b1-478e-b80e-905ae91061f0",
   "metadata": {},
   "source": [
    "Then, run `anaconda-clean`. Run the command by itself to remove all Anaconda-related files and directories with a confirmation prompt before deleting each one, or use the `--yes` argument to remove all those files and directories without being asked to confirm each one."
   ]
  },
  {
   "cell_type": "code",
   "execution_count": null,
   "id": "b8ed0c01-c082-4987-b32a-254af5a6291a",
   "metadata": {},
   "outputs": [],
   "source": [
    "# If you want to confirm each file and directory you are deleting\n",
    "anaconda-clean\n",
    "\n",
    "# If you don't want to be asked about each file and directory\n",
    "# [!I recommend using this one!]\n",
    "anaconda-clean --yes"
   ]
  },
  {
   "cell_type": "markdown",
   "id": "9ca1ffe1-739d-4160-989d-c106332bc147",
   "metadata": {},
   "source": [
    "after using the above command, run the following command to dinish uninstalling Anaconda."
   ]
  },
  {
   "cell_type": "code",
   "execution_count": null,
   "id": "cbd82de8-41eb-42c9-b8fe-cce54f51b074",
   "metadata": {},
   "outputs": [],
   "source": [
    "# The following are a few examples of how you may need to delete your Anaconda folder\n",
    "rm -rf anaconda3\n",
    "rm -rf ~/anaconda3\n",
    "rm -rf ~/opt/anaconda3"
   ]
  },
  {
   "cell_type": "markdown",
   "id": "3c963ceb-a97a-4204-b0c9-de7810851d40",
   "metadata": {},
   "source": [
    "**2. Install Xcode**\n",
    "\n",
    "Most likely you will have Xcode already installed on your mac. If it’s not already installed in your system, you can install it by running the following command below in your terminal."
   ]
  },
  {
   "cell_type": "code",
   "execution_count": null,
   "id": "1557384b-93ef-4964-88e5-02da86086b4d",
   "metadata": {},
   "outputs": [],
   "source": [
    "xcode-select --install"
   ]
  },
  {
   "cell_type": "markdown",
   "id": "bfc3b2d2-2abf-4f24-8696-52c9e53c91c3",
   "metadata": {},
   "source": [
    "**3. Install Miniforge**\n",
    "\n",
    "For this step, you can either install miniforge from GitHub directly via terminal command or manually download it and import it to your terminal. I would recommend the second approach as you can have a clearer idea of where the file is located, and easier to track back if you need to debug. However, the first approach would be easier. \n",
    "\n",
    "**3.1 Install miniforge for arm64 from miniforge GitHub**\n",
    "\n",
    "go to this link for detailed instructions: \n",
    "\n",
    "[https://github.com/conda-forge/miniforge]\n",
    "\n",
    "**3.2 Manually install**\n",
    "\n",
    "visit the same [webpage](https://github.com/conda-forge/miniforge), and download `Miniforge3` from the link in the first table (titled Download-Miniforge3). Choose the file `OS X - arm64 (Apple Silicon)(***) - Miniforge3-MacOSX-arm64` and download. Please remember the location path as we will need it for later (if by default it will be in the 'Downloads'.)\n",
    "\n",
    "After you download the file, go back to the terminal and change the directory to where you stored the miniforge3 file, using `cd`. Run the following command in your terminal to check if miniforge3 is successfully downloaded.\n",
    "\n",
    "**Important: Change XXX to your own username!! And change the directory if it is not in the Downloads.**"
   ]
  },
  {
   "cell_type": "code",
   "execution_count": null,
   "id": "c460b739-3d08-48a9-9db7-91adfe88e83e",
   "metadata": {},
   "outputs": [],
   "source": [
    "# Change to your user name and the correct directory if it is not the 'Downloads'\n",
    "cd /Users/XXX/Downloads\n",
    "\n",
    "#then run:\n",
    "bash Miniforge2-MacOSX-arm64.sh -h \n",
    "\n",
    "#what followed the `bash` should be the file name, and -h (means to help) to check if the file is successfully directed.\n",
    "\n",
    "# If it is not working, use this one:\n",
    "source ~/miniforge3/bin/activate"
   ]
  },
  {
   "cell_type": "markdown",
   "id": "155dc47e-eb96-491c-97c3-68bc882e44f9",
   "metadata": {},
   "source": [
    "Now if this works as expected, your terminal should show the current directory is /Users/XXX/miniforge3.\n",
    "\n",
    "Run `conda` in your terminal to double check (just for information, you can skip this if you want). If you see some introductions like: \"Conda is a tool for managing and deploying applications, environments and packages. Options: ...\" You are safe and can move on now :)"
   ]
  },
  {
   "cell_type": "markdown",
   "id": "74a46511-cad9-46e1-a80f-22198d668ccb",
   "metadata": {},
   "source": [
    "**4. Create a virtual environment**\n",
    "\n",
    "Restart terminal. \n",
    "\n",
    "Create a directory to setup Tensorflow environment with Python 3.8 installed. (python 3.8 seems to work most stably with M1, but you can also try Python 3.x)"
   ]
  },
  {
   "cell_type": "code",
   "execution_count": null,
   "id": "b4617f94-115d-4a27-94e3-e614746bed86",
   "metadata": {},
   "outputs": [],
   "source": [
    "# I named the virtual environment \"tensorflow\", you can change it to whatever you want. \n",
    "conda create --name tensorflow python=3.8\n",
    "\n",
    "# Now we can activate the new environment\n",
    "conda activate tensorflow\n",
    "\n",
    "#Note: \"tensorflow\" in this case is just an environment name"
   ]
  },
  {
   "cell_type": "markdown",
   "id": "65f9e605-ae0e-48e0-b2c0-9c24039ef1f5",
   "metadata": {},
   "source": [
    "**5. Install TensorFlow**\n",
    "\n",
    "Similar to step3, you can choose to install via terminal command or manually install it. For my PC (MacBook Air M1 2020, Big Sur 11.3.1) the first approach is not working, fyi. However, the first approach is, again, easier; worth trying anyway.\n",
    "\n",
    "**5.1 Using conda install**\n"
   ]
  },
  {
   "cell_type": "code",
   "execution_count": null,
   "id": "136fe41a-67c3-4b45-a3ad-688290ef35f7",
   "metadata": {},
   "outputs": [],
   "source": [
    "#Install TensorFlow dependencies from Apple Conda channel.\n",
    "conda install -c apple tensorflow-deps\n",
    "\n",
    "#Install base TensorFlow (Apple's fork of TensorFlow is called tensorflow-macos).\n",
    "python -m pip install tensorflow-macos\n",
    "\n",
    "# Install Apple's tensorflow-metal to leverage Apple Metal (Apple's GPU framework) for M1, M1 Pro, M1 Max, M1 Ultra, M2 GPU acceleration.\n",
    "python -m pip install tensorflow-metal\n",
    "\n",
    "#(Optional) Install TensorFlow Datasets to run benchmarks included in this repo.\n",
    "python -m pip install tensorflow-datasets"
   ]
  },
  {
   "cell_type": "markdown",
   "id": "3931e547-1da2-4711-9741-51cdc56b8a75",
   "metadata": {},
   "source": [
    "**5.2 Manually download + install**\n",
    "\n",
    "Go to this GitHub [webpage](https://github.com/apple/tensorflow_macos/releases/tag/v0.1alpha3), choose `tensorflow_maco-0.1alpha3.tar.gz` under the `Assets` menu, download and decompress the file.\n",
    "\n",
    "Back to the terminal and run:\n",
    "\n",
    "**!Very important note!**: The following command is to set up a shortcut for the later commands, so it should be absolutely correct, otherwise it won't get to the right path and end up throwing errors that can not find the files.\n",
    "\n",
    "**1. Change 'XXX' to your own user name;**\n",
    "\n",
    "**2. In \"libs\", change 'Download' to where the `tensorflow_maco-0.1alpha3.tar.gz` is located;**\n",
    "\n",
    "**3. In \"env\", change 'tensorflow' to your own virtual environment (that you created in step 4.), the virtual environment is normally located under `miniforge3/envs/`. If in doubt, you can go to your Finder and double-check;**\n",
    "\n",
    "**4. Started with a '/' is necessary; 6. DO NOT end with a '/' like we normally do.**"
   ]
  },
  {
   "cell_type": "code",
   "execution_count": null,
   "id": "39c5513a-a218-46c0-b1f3-a2ed1859e9cf",
   "metadata": {},
   "outputs": [],
   "source": [
    "libs=/Users/XXX/Downloads/tensorflow_macos/arm64 \n",
    "env=/Users/XXX/miniforge3/envs/tensorflow"
   ]
  },
  {
   "cell_type": "markdown",
   "id": "416f03d8-e0a4-48dc-9ce7-b70545a531c9",
   "metadata": {},
   "source": [
    "run the following commands in order:"
   ]
  },
  {
   "cell_type": "code",
   "execution_count": null,
   "id": "e04a6bf6-adbc-4c1f-b1c8-47f08d3d72e9",
   "metadata": {},
   "outputs": [],
   "source": [
    "conda install cached-property\n",
    "\n",
    "conda install six\n",
    "\n",
    "pip install --upgrade -t \"$env/lib/python3.8/site-packages/\" --no-dependencies --force \"$libs/grpcio-1.33.2-cp38-cp38-macosx_11_0_arm64.whl\"\n",
    "\n",
    "pip install --upgrade -t \"$env/lib/python3.8/site-packages/\" --no-dependencies --force \"$libs/h5py-2.10.0-cp38-cp38-macosx_11_0_arm64.whl\"\n",
    "\n",
    "pip install --upgrade -t \"$env/lib/python3.8/site-packages/\" --no-dependencies --force \"$libs/tensorflow_addons_macos-0.1a3-cp38-cp38-macosx_11_0_arm64.whl\"\n",
    "\n",
    "conda install -c conda-forge -y absl-py\n",
    "\n",
    "conda install -c conda-forge -y astunparse\n",
    "\n",
    "conda install -c conda-forge -y gast\n",
    "\n",
    "conda install -c conda-forge -y opt_einsum\n",
    "\n",
    "conda install -c conda-forge -y termcolor\n",
    "\n",
    "conda install -c conda-forge -y typing_extensions\n",
    "\n",
    "conda install -c conda-forge -y wheel\n",
    "\n",
    "conda install -c conda-forge -y typeguard\n",
    "\n",
    "pip install wrapt flatbuffers tensorflow_estimator google_pasta keras_preprocessing protobuf\n",
    "\n",
    "pip install --upgrade -t \"$env/lib/python3.8/site-packages/\" --no-dependencies --force \"$libs/tensorflow_macos-0.1a3-cp38-cp38-macosx_11_0_arm64.whl\"\n",
    "\n",
    "pip install tensorboard"
   ]
  },
  {
   "cell_type": "markdown",
   "id": "c6fe0683-30a1-495a-8691-1648ffc55941",
   "metadata": {},
   "source": [
    "**6. Install Jupyter notebook**"
   ]
  },
  {
   "cell_type": "code",
   "execution_count": null,
   "id": "03f83edd-8f30-4199-bdb2-fc6f6e73a219",
   "metadata": {},
   "outputs": [],
   "source": [
    "conda install jupyter notebook\n",
    "\n",
    "conda install jupyter pandas numpy matplotlib scikit-learn\n",
    "\n",
    "jupyter notebook"
   ]
  },
  {
   "cell_type": "markdown",
   "id": "ca41abca-93d3-4afa-b1fc-505b909fd9a1",
   "metadata": {},
   "source": [
    "now you should be redirected to jupyter notebook. Run and check:\n",
    "\n",
    "You should then see: TensorFlow version: 2.4.0-rc0"
   ]
  },
  {
   "cell_type": "code",
   "execution_count": 1,
   "id": "b9c22aca-fe66-458f-a2fb-d39558cc7f15",
   "metadata": {},
   "outputs": [
    {
     "name": "stdout",
     "output_type": "stream",
     "text": [
      "TensorFlow version: 2.4.0-rc0\n"
     ]
    }
   ],
   "source": [
    "import numpy as np\n",
    "import pandas as pd\n",
    "import sklearn\n",
    "import tensorflow as tf\n",
    "import matplotlib.pyplot as plt\n",
    "\n",
    "print(f\"TensorFlow version: {tf.__version__}\")"
   ]
  }
 ],
 "metadata": {
  "kernelspec": {
   "display_name": "Python 3 (ipykernel)",
   "language": "python",
   "name": "python3"
  },
  "language_info": {
   "codemirror_mode": {
    "name": "ipython",
    "version": 3
   },
   "file_extension": ".py",
   "mimetype": "text/x-python",
   "name": "python",
   "nbconvert_exporter": "python",
   "pygments_lexer": "ipython3",
   "version": "3.8.17"
  }
 },
 "nbformat": 4,
 "nbformat_minor": 5
}
